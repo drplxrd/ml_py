{
 "cells": [
  {
   "attachments": {},
   "cell_type": "markdown",
   "id": "f53be47d",
   "metadata": {},
   "source": [
    "## Calculating employee salaries using polynomial linear regression\n",
    "\n",
    "## general formula\n",
    "y = a + b1x + b2x^2 + b3x^3 + b4x^4 + ... + bN*x^N"
   ]
  },
  {
   "cell_type": "code",
   "execution_count": null,
   "id": "e7ae1d84",
   "metadata": {},
   "outputs": [],
   "source": [
    "import pandas as pd\n",
    "import matplotlib.pyplot as plt\n",
    "from sklearn.linear_model import LinearRegression\n",
    "from sklearn.preprocessing import PolynomialFeatures\n",
    "\n",
    "df = pd.read_csv(\"/home/steve/Projects/ml_py/hr_salary_calculations/salaries_dataset.csv\", sep=\";\")\n"
   ]
  },
  {
   "cell_type": "code",
   "execution_count": null,
   "id": "fe00c11a",
   "metadata": {},
   "outputs": [],
   "source": [
    "df"
   ]
  },
  {
   "attachments": {},
   "cell_type": "markdown",
   "id": "2d0937da",
   "metadata": {},
   "source": [
    "## visualize the dataset using pyplot\n",
    "## linear regression\n",
    "    *but the data is not accurate from the sketch, we need to use \n",
    "    polynomial regression*"
   ]
  },
  {
   "cell_type": "code",
   "execution_count": null,
   "id": "208a4e5e",
   "metadata": {},
   "outputs": [],
   "source": [
    "plt.scatter(df['experience_level'], df['salary'])\n",
    "plt.xlabel('Experience level')\n",
    "plt.ylabel('Salary')\n",
    "plt.savefig('1.png', dpi=300)\n",
    "plt.show()"
   ]
  },
  {
   "cell_type": "code",
   "execution_count": null,
   "id": "6b7ba0ba",
   "metadata": {},
   "outputs": [],
   "source": [
    "reg = LinearRegression()\n",
    "reg.fit(df[['experience_level']], df[['salary']])\n",
    "\n",
    "plt.xlabel('Experience level')\n",
    "plt.ylabel('Maas')\n",
    "\n",
    "plt.scatter(df['experience_level'], df['salary'])\n",
    "\n",
    "xekseni = df['experience_level']\n",
    "yekseni = reg.predict(df[['experience_level']])\n",
    "plt.plot(xekseni, yekseni, color=\"green\", label = \"linear_regression\")\n",
    "plt.legend()\n",
    "plt.show()\n"
   ]
  },
  {
   "cell_type": "code",
   "execution_count": null,
   "id": "6679e2ed",
   "metadata": {},
   "outputs": [],
   "source": [
    "#call polynomialFeatures function to create a polynomial regression object\n",
    "#we specify the degree (N) of the polynomial when calling this function:\n",
    "\n",
    "polynomial_regression = PolynomialFeatures(degree=4)\n",
    "\n",
    "x_poly = polynomial_regression.fit_transform(df[['experience_level']])\n",
    " "
   ]
  },
  {
   "cell_type": "code",
   "execution_count": null,
   "id": "76dcbfbc",
   "metadata": {},
   "outputs": [],
   "source": [
    "#training regression model with data:\n",
    "reg = LinearRegression()\n",
    "reg.fit(x_poly, df['salary'])\n"
   ]
  },
  {
   "attachments": {},
   "cell_type": "markdown",
   "id": "f9a7857c",
   "metadata": {},
   "source": [
    " ## Now that our model is trained, let's see how our model generates a result graph based on the available data:"
   ]
  },
  {
   "cell_type": "code",
   "execution_count": null,
   "id": "32bd4bd9",
   "metadata": {},
   "outputs": [],
   "source": [
    "y_head = reg.predict(x_poly)\n",
    "plt.plot(df['experience_level'],  y_head, color=\"red\", label = \"polynomial regression\")\n",
    "plt.legend\n",
    "\n",
    "#scatter our dataset as points and see if it fits polynomial regression:\n",
    "plt.scatter(df['experience_level'], df['salary'])\n",
    "\n",
    "plt.show()"
   ]
  },
  {
   "cell_type": "markdown",
   "id": "eb91171b",
   "metadata": {},
   "source": []
  },
  {
   "attachments": {},
   "cell_type": "markdown",
   "id": "135b4259",
   "metadata": {},
   "source": [
    "## calculate new employees salary with experience level 4.5"
   ]
  },
  {
   "cell_type": "code",
   "execution_count": null,
   "id": "76dbe15f",
   "metadata": {},
   "outputs": [],
   "source": [
    "x_poly1 = polynomial_regression.fit_transform([[4.5]])\n",
    "reg.predict(x_poly1)"
   ]
  }
 ],
 "metadata": {
  "kernelspec": {
   "display_name": "myenv",
   "language": "python",
   "name": "python3"
  },
  "language_info": {
   "codemirror_mode": {
    "name": "ipython",
    "version": 3
   },
   "file_extension": ".py",
   "mimetype": "text/x-python",
   "name": "python",
   "nbconvert_exporter": "python",
   "pygments_lexer": "ipython3",
   "version": "3.9.15"
  },
  "vscode": {
   "interpreter": {
    "hash": "5cca191742bef07b6971a46565a98ec33a3b24c50accfd3f13c93f072963e193"
   }
  }
 },
 "nbformat": 4,
 "nbformat_minor": 5
}
